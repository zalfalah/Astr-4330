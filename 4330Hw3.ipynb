{
 "cells": [
  {
   "cell_type": "markdown",
   "metadata": {},
   "source": [
    "# Astr 4330 Hw. # 3\n",
    "## Zade Alfalah"
   ]
  },
  {
   "cell_type": "code",
   "execution_count": 1,
   "metadata": {},
   "outputs": [],
   "source": [
    "import numpy as np\n",
    "import pandas as pd\n",
    "import matplotlib.pyplot as plt\n",
    "%matplotlib inline"
   ]
  },
  {
   "cell_type": "markdown",
   "metadata": {},
   "source": [
    "Part 1: Short Answer Questions\n",
    "1. What are three ways that we can measure the composition of our solar system?\n",
    "2. What are the three types of mass-dependent fractionation? Describe briefly how they\n",
    "work.\n",
    "3. What is the cause of the variations in oxygen isotope composition within our solar\n",
    "system? Make sure to explain both the slope 1 and ½ lines in the following diagram\n",
    "(Figure A). Why is the sun not at the center of this diagram?"
   ]
  },
  {
   "cell_type": "markdown",
   "metadata": {},
   "source": [
    "1. Observational measures of sun, two types of sample measures of sun.  Samples w/ similar compositions to our sun.  Lecture plot has measure of sun vs measure of a certain type of sample earlier in the semester.  \n",
    "\n",
    "    a) Collection of solar winds\n",
    "    \n",
    "    b) Study of solar spectra\n",
    "\n",
    "    c) Study of carbonaceous chondrites' composition\n",
    "    \n",
    "2.\n",
    "\n",
    "    a) Equilibrium Fractionation\n",
    "    \n",
    "    This is where the heavier isotope equilibrates into the compound/phase in which it is most stably bound\n",
    "\n",
    "    b) Kinetic Fractionation\n",
    "    \n",
    "    This is simply a result of the fact that heavier isotopes move more slowly, and therefore react more slowly.  An example of this is diffusion.\n",
    "\n",
    "    c) Rayleigh Fractionation\n",
    "    \n",
    "    This type of fractionation describes the evolution of a system where one phase is continuously removed.  Eg: Isotopic enrichment\n",
    "    \n",
    "3.\n",
    "    The slope 1/2 line is from mass dependant fractionation, whereas the slope 1 line is from mass independant fractionation.  \"Isotopic compositions result from mixing different proportions of distinct components produced in different locations... \" - Mcsween, pg. 223.  The slope of 1 means that if two samples on the line differ by 2 per mille in O-18 / O-16 they will differ in O-17 / O-16 by the same ammount.  The samples on the slope 1/2 line instead differ in O-17 / O-16 by 1 per mille with the same O-18 / O-16 difference, as stated in the following link:\n",
    "    http://www.psrd.hawaii.edu/Dec01/Oisotopes.html\n",
    "Stars produce different isotopes of O at different abundances based off of their age."
   ]
  },
  {
   "cell_type": "markdown",
   "metadata": {},
   "source": [
    "In this section, you will investigate the condensation of the first CAIs and chondrules using the\n",
    "Al-Mg isotope system. Use the Al and Mg isotopic data and corresponding uncertainties for a\n",
    "CAI and a chondrule given in spreadsheet labelled “PS3_Data.xlsx” to answer the following\n",
    "questions."
   ]
  },
  {
   "cell_type": "code",
   "execution_count": 2,
   "metadata": {},
   "outputs": [],
   "source": [
    "#all below for sample 1 3138 F8 CAI"
   ]
  },
  {
   "cell_type": "code",
   "execution_count": 3,
   "metadata": {},
   "outputs": [],
   "source": [
    "Phase = [\"Hibonite\", \"Melilite\",\"Melilite\",\"Melilite\",\"Melilite\",\"Melilite\",\"Melilite\",\"Melilite\",\"Melilite\",\"Melilite\",\"Melilite\", \"Fassaite\",\"Fassaite\",\"Fassaite\",\"Fassaite\",\"Fassaite\",\"Fassaite\",\"Olivine\"]\n",
    "al27_24mg = [15.20,15.90,16.30,18.20,21.20,86.60,85.60,95.50,91.10,44.20,76.60,5.10,4.52,4.41,2.74,2.72,2.66,0.10]\n",
    "sig2 = [1.50,0.30,0.30,0.30,0.40,1.60,1.50,1.60,1.70,0.80,1.50,0.27,0.24,0.23,0.03,0.03,0.03,0.01]\n",
    "delta26mg = [6.30,7.30,6.10,8.20,8.10,30.70,32.20,33.60,36.30,15.60,28.80,2.00,1.75,1.58,0.81,1.00,0.94,0.00]\n",
    "sig2percent = [1.20,1.20,1.50,1.20,1.50,2.60,2.80,2.90,3.20,2.40,3.50,0.12,0.16,0.14,0.13,0.13,0.13,0.02]\n",
    "\n",
    "dict = {\"phase\": Phase, \"al27_mg24\": al27_24mg, '2sig': sig2, \"delta26mg\":delta26mg, \"2sigpercent\": sig2percent}\n",
    "CAI = pd.DataFrame(dict)"
   ]
  },
  {
   "cell_type": "code",
   "execution_count": 4,
   "metadata": {},
   "outputs": [],
   "source": [
    "#all below for sample 2 CH4 Chondrule\n",
    "Phase = [\"Plagioclase\",\"Plagioclase\",\"Plagioclase\",\"Plagioclase\",\"Plagioclase\",\"Olivine\"]\n",
    "al27_24mg = [99, 208, 181, 139, 123, 0.1]\n",
    "sig2 = [4.95, 10.40, 9.05, 6.95, 6.15, 0.01]\n",
    "delta26mg = [10.37, 13.38,12.45, 7.14, 6.78, 0]\n",
    "sig2percent = [7.03, 3.87, 4.09, 3.37, 3.16, 0.02]\n",
    "dict = {\"phase\": Phase, \"al27_mg24\": al27_24mg, '2sig': sig2, \"delta26mg\":delta26mg, \"2sigpercent\": sig2percent}\n",
    "Chondrule = pd.DataFrame(dict)"
   ]
  },
  {
   "cell_type": "code",
   "execution_count": 5,
   "metadata": {},
   "outputs": [
    {
     "data": {
      "text/html": [
       "<div>\n",
       "<style scoped>\n",
       "    .dataframe tbody tr th:only-of-type {\n",
       "        vertical-align: middle;\n",
       "    }\n",
       "\n",
       "    .dataframe tbody tr th {\n",
       "        vertical-align: top;\n",
       "    }\n",
       "\n",
       "    .dataframe thead th {\n",
       "        text-align: right;\n",
       "    }\n",
       "</style>\n",
       "<table border=\"1\" class=\"dataframe\">\n",
       "  <thead>\n",
       "    <tr style=\"text-align: right;\">\n",
       "      <th></th>\n",
       "      <th>phase</th>\n",
       "      <th>al27_mg24</th>\n",
       "      <th>2sig</th>\n",
       "      <th>delta26mg</th>\n",
       "      <th>2sigpercent</th>\n",
       "    </tr>\n",
       "  </thead>\n",
       "  <tbody>\n",
       "    <tr>\n",
       "      <th>0</th>\n",
       "      <td>Hibonite</td>\n",
       "      <td>15.2</td>\n",
       "      <td>1.5</td>\n",
       "      <td>6.3</td>\n",
       "      <td>1.2</td>\n",
       "    </tr>\n",
       "    <tr>\n",
       "      <th>1</th>\n",
       "      <td>Melilite</td>\n",
       "      <td>15.9</td>\n",
       "      <td>0.3</td>\n",
       "      <td>7.3</td>\n",
       "      <td>1.2</td>\n",
       "    </tr>\n",
       "    <tr>\n",
       "      <th>2</th>\n",
       "      <td>Melilite</td>\n",
       "      <td>16.3</td>\n",
       "      <td>0.3</td>\n",
       "      <td>6.1</td>\n",
       "      <td>1.5</td>\n",
       "    </tr>\n",
       "    <tr>\n",
       "      <th>3</th>\n",
       "      <td>Melilite</td>\n",
       "      <td>18.2</td>\n",
       "      <td>0.3</td>\n",
       "      <td>8.2</td>\n",
       "      <td>1.2</td>\n",
       "    </tr>\n",
       "    <tr>\n",
       "      <th>4</th>\n",
       "      <td>Melilite</td>\n",
       "      <td>21.2</td>\n",
       "      <td>0.4</td>\n",
       "      <td>8.1</td>\n",
       "      <td>1.5</td>\n",
       "    </tr>\n",
       "  </tbody>\n",
       "</table>\n",
       "</div>"
      ],
      "text/plain": [
       "      phase  al27_mg24  2sig  delta26mg  2sigpercent\n",
       "0  Hibonite       15.2   1.5        6.3          1.2\n",
       "1  Melilite       15.9   0.3        7.3          1.2\n",
       "2  Melilite       16.3   0.3        6.1          1.5\n",
       "3  Melilite       18.2   0.3        8.2          1.2\n",
       "4  Melilite       21.2   0.4        8.1          1.5"
      ]
     },
     "execution_count": 5,
     "metadata": {},
     "output_type": "execute_result"
    }
   ],
   "source": [
    "CAI.head()"
   ]
  },
  {
   "cell_type": "code",
   "execution_count": 6,
   "metadata": {},
   "outputs": [
    {
     "data": {
      "text/html": [
       "<div>\n",
       "<style scoped>\n",
       "    .dataframe tbody tr th:only-of-type {\n",
       "        vertical-align: middle;\n",
       "    }\n",
       "\n",
       "    .dataframe tbody tr th {\n",
       "        vertical-align: top;\n",
       "    }\n",
       "\n",
       "    .dataframe thead th {\n",
       "        text-align: right;\n",
       "    }\n",
       "</style>\n",
       "<table border=\"1\" class=\"dataframe\">\n",
       "  <thead>\n",
       "    <tr style=\"text-align: right;\">\n",
       "      <th></th>\n",
       "      <th>phase</th>\n",
       "      <th>al27_mg24</th>\n",
       "      <th>2sig</th>\n",
       "      <th>delta26mg</th>\n",
       "      <th>2sigpercent</th>\n",
       "    </tr>\n",
       "  </thead>\n",
       "  <tbody>\n",
       "    <tr>\n",
       "      <th>0</th>\n",
       "      <td>Plagioclase</td>\n",
       "      <td>99.0</td>\n",
       "      <td>4.95</td>\n",
       "      <td>10.37</td>\n",
       "      <td>7.03</td>\n",
       "    </tr>\n",
       "    <tr>\n",
       "      <th>1</th>\n",
       "      <td>Plagioclase</td>\n",
       "      <td>208.0</td>\n",
       "      <td>10.40</td>\n",
       "      <td>13.38</td>\n",
       "      <td>3.87</td>\n",
       "    </tr>\n",
       "    <tr>\n",
       "      <th>2</th>\n",
       "      <td>Plagioclase</td>\n",
       "      <td>181.0</td>\n",
       "      <td>9.05</td>\n",
       "      <td>12.45</td>\n",
       "      <td>4.09</td>\n",
       "    </tr>\n",
       "    <tr>\n",
       "      <th>3</th>\n",
       "      <td>Plagioclase</td>\n",
       "      <td>139.0</td>\n",
       "      <td>6.95</td>\n",
       "      <td>7.14</td>\n",
       "      <td>3.37</td>\n",
       "    </tr>\n",
       "    <tr>\n",
       "      <th>4</th>\n",
       "      <td>Plagioclase</td>\n",
       "      <td>123.0</td>\n",
       "      <td>6.15</td>\n",
       "      <td>6.78</td>\n",
       "      <td>3.16</td>\n",
       "    </tr>\n",
       "  </tbody>\n",
       "</table>\n",
       "</div>"
      ],
      "text/plain": [
       "         phase  al27_mg24   2sig  delta26mg  2sigpercent\n",
       "0  Plagioclase       99.0   4.95      10.37         7.03\n",
       "1  Plagioclase      208.0  10.40      13.38         3.87\n",
       "2  Plagioclase      181.0   9.05      12.45         4.09\n",
       "3  Plagioclase      139.0   6.95       7.14         3.37\n",
       "4  Plagioclase      123.0   6.15       6.78         3.16"
      ]
     },
     "execution_count": 6,
     "metadata": {},
     "output_type": "execute_result"
    }
   ],
   "source": [
    "Chondrule.head()"
   ]
  },
  {
   "cell_type": "markdown",
   "metadata": {},
   "source": [
    "1. What is the radioactive decay system that is basis of Al-Mg chronology? What is the\n",
    "half-life of this system? Would the parent isotope be considered a short-lived or longlived radionuclide?\n",
    "\n",
    "Al 26 decays to Mg 26 with a half life of 720,000 years, we use and the deviation from the natural abundance of Mg 26 and compare it to the ratio of the stable isotopes Al 27 / Mg 24.\n",
    "It is a short-lived radionuclide."
   ]
  },
  {
   "cell_type": "markdown",
   "metadata": {},
   "source": [
    "2. Calculate the 26Mg/24Mg ratio and corresponding uncertainties for each CAI and the\n",
    "chondrule. Plot the 26Mg/24Mg ratio vs. 26Al/27Al ratio for the CAIs and the chondrule\n",
    "(plot as two different datasets on the same figure – it will make the following questions\n",
    "easier). Add the uncertainties as error bars for each data point. Include this figure as\n",
    "part of your response."
   ]
  },
  {
   "cell_type": "code",
   "execution_count": 7,
   "metadata": {},
   "outputs": [],
   "source": [
    "# Since delta=(sample-std)/std*1000, we can rewrite so sample=(delta*std/1000)+std\n",
    "\n",
    "\n",
    "std = 0.139384732 #standard 26Mg/24Mg  \n",
    "bucket = [] # for mg26/mg24\n",
    "bucket2 = [] # for 2sigma of mg26/mg24\n",
    "for index, row in CAI.iterrows():\n",
    "    #print((row['delta26mg']*std/1000) + std)\n",
    "    bucket.append((row['delta26mg']*std/1000) + std)\n",
    "    bucket2.append((row['2sig']*abs(std/1000)))\n",
    "CAI['mg26_mg24'] = bucket\n",
    "CAI[\"mg_mg_2sig\"] = bucket2\n",
    "\n",
    "bucket = []\n",
    "bucket2 = []\n",
    "for index, row in Chondrule.iterrows():\n",
    "    #print((row['delta26mg']*std/1000) + std)\n",
    "    bucket.append((row['delta26mg']*std/1000) + std)\n",
    "    bucket2.append((row['2sig']*abs(std/1000)))\n",
    "Chondrule['mg26_mg24'] = bucket\n",
    "Chondrule[\"mg_mg_2sig\"] = bucket2"
   ]
  },
  {
   "cell_type": "code",
   "execution_count": 22,
   "metadata": {},
   "outputs": [
    {
     "data": {
      "text/html": [
       "<div>\n",
       "<style scoped>\n",
       "    .dataframe tbody tr th:only-of-type {\n",
       "        vertical-align: middle;\n",
       "    }\n",
       "\n",
       "    .dataframe tbody tr th {\n",
       "        vertical-align: top;\n",
       "    }\n",
       "\n",
       "    .dataframe thead th {\n",
       "        text-align: right;\n",
       "    }\n",
       "</style>\n",
       "<table border=\"1\" class=\"dataframe\">\n",
       "  <thead>\n",
       "    <tr style=\"text-align: right;\">\n",
       "      <th></th>\n",
       "      <th>phase</th>\n",
       "      <th>al27_mg24</th>\n",
       "      <th>2sig</th>\n",
       "      <th>delta26mg</th>\n",
       "      <th>2sigpercent</th>\n",
       "      <th>mg26_mg24</th>\n",
       "      <th>mg_mg_2sig</th>\n",
       "    </tr>\n",
       "  </thead>\n",
       "  <tbody>\n",
       "    <tr>\n",
       "      <th>0</th>\n",
       "      <td>Hibonite</td>\n",
       "      <td>15.20</td>\n",
       "      <td>1.50</td>\n",
       "      <td>6.30</td>\n",
       "      <td>1.20</td>\n",
       "      <td>0.140263</td>\n",
       "      <td>0.000209</td>\n",
       "    </tr>\n",
       "    <tr>\n",
       "      <th>1</th>\n",
       "      <td>Melilite</td>\n",
       "      <td>15.90</td>\n",
       "      <td>0.30</td>\n",
       "      <td>7.30</td>\n",
       "      <td>1.20</td>\n",
       "      <td>0.140402</td>\n",
       "      <td>0.000042</td>\n",
       "    </tr>\n",
       "    <tr>\n",
       "      <th>2</th>\n",
       "      <td>Melilite</td>\n",
       "      <td>16.30</td>\n",
       "      <td>0.30</td>\n",
       "      <td>6.10</td>\n",
       "      <td>1.50</td>\n",
       "      <td>0.140235</td>\n",
       "      <td>0.000042</td>\n",
       "    </tr>\n",
       "    <tr>\n",
       "      <th>3</th>\n",
       "      <td>Melilite</td>\n",
       "      <td>18.20</td>\n",
       "      <td>0.30</td>\n",
       "      <td>8.20</td>\n",
       "      <td>1.20</td>\n",
       "      <td>0.140528</td>\n",
       "      <td>0.000042</td>\n",
       "    </tr>\n",
       "    <tr>\n",
       "      <th>4</th>\n",
       "      <td>Melilite</td>\n",
       "      <td>21.20</td>\n",
       "      <td>0.40</td>\n",
       "      <td>8.10</td>\n",
       "      <td>1.50</td>\n",
       "      <td>0.140514</td>\n",
       "      <td>0.000056</td>\n",
       "    </tr>\n",
       "    <tr>\n",
       "      <th>5</th>\n",
       "      <td>Melilite</td>\n",
       "      <td>86.60</td>\n",
       "      <td>1.60</td>\n",
       "      <td>30.70</td>\n",
       "      <td>2.60</td>\n",
       "      <td>0.143664</td>\n",
       "      <td>0.000223</td>\n",
       "    </tr>\n",
       "    <tr>\n",
       "      <th>6</th>\n",
       "      <td>Melilite</td>\n",
       "      <td>85.60</td>\n",
       "      <td>1.50</td>\n",
       "      <td>32.20</td>\n",
       "      <td>2.80</td>\n",
       "      <td>0.143873</td>\n",
       "      <td>0.000209</td>\n",
       "    </tr>\n",
       "    <tr>\n",
       "      <th>7</th>\n",
       "      <td>Melilite</td>\n",
       "      <td>95.50</td>\n",
       "      <td>1.60</td>\n",
       "      <td>33.60</td>\n",
       "      <td>2.90</td>\n",
       "      <td>0.144068</td>\n",
       "      <td>0.000223</td>\n",
       "    </tr>\n",
       "    <tr>\n",
       "      <th>8</th>\n",
       "      <td>Melilite</td>\n",
       "      <td>91.10</td>\n",
       "      <td>1.70</td>\n",
       "      <td>36.30</td>\n",
       "      <td>3.20</td>\n",
       "      <td>0.144444</td>\n",
       "      <td>0.000237</td>\n",
       "    </tr>\n",
       "    <tr>\n",
       "      <th>9</th>\n",
       "      <td>Melilite</td>\n",
       "      <td>44.20</td>\n",
       "      <td>0.80</td>\n",
       "      <td>15.60</td>\n",
       "      <td>2.40</td>\n",
       "      <td>0.141559</td>\n",
       "      <td>0.000112</td>\n",
       "    </tr>\n",
       "    <tr>\n",
       "      <th>10</th>\n",
       "      <td>Melilite</td>\n",
       "      <td>76.60</td>\n",
       "      <td>1.50</td>\n",
       "      <td>28.80</td>\n",
       "      <td>3.50</td>\n",
       "      <td>0.143399</td>\n",
       "      <td>0.000209</td>\n",
       "    </tr>\n",
       "    <tr>\n",
       "      <th>11</th>\n",
       "      <td>Fassaite</td>\n",
       "      <td>5.10</td>\n",
       "      <td>0.27</td>\n",
       "      <td>2.00</td>\n",
       "      <td>0.12</td>\n",
       "      <td>0.139664</td>\n",
       "      <td>0.000038</td>\n",
       "    </tr>\n",
       "    <tr>\n",
       "      <th>12</th>\n",
       "      <td>Fassaite</td>\n",
       "      <td>4.52</td>\n",
       "      <td>0.24</td>\n",
       "      <td>1.75</td>\n",
       "      <td>0.16</td>\n",
       "      <td>0.139629</td>\n",
       "      <td>0.000033</td>\n",
       "    </tr>\n",
       "    <tr>\n",
       "      <th>13</th>\n",
       "      <td>Fassaite</td>\n",
       "      <td>4.41</td>\n",
       "      <td>0.23</td>\n",
       "      <td>1.58</td>\n",
       "      <td>0.14</td>\n",
       "      <td>0.139605</td>\n",
       "      <td>0.000032</td>\n",
       "    </tr>\n",
       "    <tr>\n",
       "      <th>14</th>\n",
       "      <td>Fassaite</td>\n",
       "      <td>2.74</td>\n",
       "      <td>0.03</td>\n",
       "      <td>0.81</td>\n",
       "      <td>0.13</td>\n",
       "      <td>0.139498</td>\n",
       "      <td>0.000004</td>\n",
       "    </tr>\n",
       "    <tr>\n",
       "      <th>15</th>\n",
       "      <td>Fassaite</td>\n",
       "      <td>2.72</td>\n",
       "      <td>0.03</td>\n",
       "      <td>1.00</td>\n",
       "      <td>0.13</td>\n",
       "      <td>0.139524</td>\n",
       "      <td>0.000004</td>\n",
       "    </tr>\n",
       "    <tr>\n",
       "      <th>16</th>\n",
       "      <td>Fassaite</td>\n",
       "      <td>2.66</td>\n",
       "      <td>0.03</td>\n",
       "      <td>0.94</td>\n",
       "      <td>0.13</td>\n",
       "      <td>0.139516</td>\n",
       "      <td>0.000004</td>\n",
       "    </tr>\n",
       "    <tr>\n",
       "      <th>17</th>\n",
       "      <td>Olivine</td>\n",
       "      <td>0.10</td>\n",
       "      <td>0.01</td>\n",
       "      <td>0.00</td>\n",
       "      <td>0.02</td>\n",
       "      <td>0.139385</td>\n",
       "      <td>0.000001</td>\n",
       "    </tr>\n",
       "  </tbody>\n",
       "</table>\n",
       "</div>"
      ],
      "text/plain": [
       "       phase  al27_mg24  2sig  delta26mg  2sigpercent  mg26_mg24  mg_mg_2sig\n",
       "0   Hibonite      15.20  1.50       6.30         1.20   0.140263    0.000209\n",
       "1   Melilite      15.90  0.30       7.30         1.20   0.140402    0.000042\n",
       "2   Melilite      16.30  0.30       6.10         1.50   0.140235    0.000042\n",
       "3   Melilite      18.20  0.30       8.20         1.20   0.140528    0.000042\n",
       "4   Melilite      21.20  0.40       8.10         1.50   0.140514    0.000056\n",
       "5   Melilite      86.60  1.60      30.70         2.60   0.143664    0.000223\n",
       "6   Melilite      85.60  1.50      32.20         2.80   0.143873    0.000209\n",
       "7   Melilite      95.50  1.60      33.60         2.90   0.144068    0.000223\n",
       "8   Melilite      91.10  1.70      36.30         3.20   0.144444    0.000237\n",
       "9   Melilite      44.20  0.80      15.60         2.40   0.141559    0.000112\n",
       "10  Melilite      76.60  1.50      28.80         3.50   0.143399    0.000209\n",
       "11  Fassaite       5.10  0.27       2.00         0.12   0.139664    0.000038\n",
       "12  Fassaite       4.52  0.24       1.75         0.16   0.139629    0.000033\n",
       "13  Fassaite       4.41  0.23       1.58         0.14   0.139605    0.000032\n",
       "14  Fassaite       2.74  0.03       0.81         0.13   0.139498    0.000004\n",
       "15  Fassaite       2.72  0.03       1.00         0.13   0.139524    0.000004\n",
       "16  Fassaite       2.66  0.03       0.94         0.13   0.139516    0.000004\n",
       "17   Olivine       0.10  0.01       0.00         0.02   0.139385    0.000001"
      ]
     },
     "execution_count": 22,
     "metadata": {},
     "output_type": "execute_result"
    }
   ],
   "source": [
    "CAI"
   ]
  },
  {
   "cell_type": "code",
   "execution_count": 23,
   "metadata": {},
   "outputs": [
    {
     "data": {
      "text/html": [
       "<div>\n",
       "<style scoped>\n",
       "    .dataframe tbody tr th:only-of-type {\n",
       "        vertical-align: middle;\n",
       "    }\n",
       "\n",
       "    .dataframe tbody tr th {\n",
       "        vertical-align: top;\n",
       "    }\n",
       "\n",
       "    .dataframe thead th {\n",
       "        text-align: right;\n",
       "    }\n",
       "</style>\n",
       "<table border=\"1\" class=\"dataframe\">\n",
       "  <thead>\n",
       "    <tr style=\"text-align: right;\">\n",
       "      <th></th>\n",
       "      <th>phase</th>\n",
       "      <th>al27_mg24</th>\n",
       "      <th>2sig</th>\n",
       "      <th>delta26mg</th>\n",
       "      <th>2sigpercent</th>\n",
       "      <th>mg26_mg24</th>\n",
       "      <th>mg_mg_2sig</th>\n",
       "    </tr>\n",
       "  </thead>\n",
       "  <tbody>\n",
       "    <tr>\n",
       "      <th>0</th>\n",
       "      <td>Plagioclase</td>\n",
       "      <td>99.0</td>\n",
       "      <td>4.95</td>\n",
       "      <td>10.37</td>\n",
       "      <td>7.03</td>\n",
       "      <td>0.140830</td>\n",
       "      <td>0.000690</td>\n",
       "    </tr>\n",
       "    <tr>\n",
       "      <th>1</th>\n",
       "      <td>Plagioclase</td>\n",
       "      <td>208.0</td>\n",
       "      <td>10.40</td>\n",
       "      <td>13.38</td>\n",
       "      <td>3.87</td>\n",
       "      <td>0.141250</td>\n",
       "      <td>0.001450</td>\n",
       "    </tr>\n",
       "    <tr>\n",
       "      <th>2</th>\n",
       "      <td>Plagioclase</td>\n",
       "      <td>181.0</td>\n",
       "      <td>9.05</td>\n",
       "      <td>12.45</td>\n",
       "      <td>4.09</td>\n",
       "      <td>0.141120</td>\n",
       "      <td>0.001261</td>\n",
       "    </tr>\n",
       "    <tr>\n",
       "      <th>3</th>\n",
       "      <td>Plagioclase</td>\n",
       "      <td>139.0</td>\n",
       "      <td>6.95</td>\n",
       "      <td>7.14</td>\n",
       "      <td>3.37</td>\n",
       "      <td>0.140380</td>\n",
       "      <td>0.000969</td>\n",
       "    </tr>\n",
       "    <tr>\n",
       "      <th>4</th>\n",
       "      <td>Plagioclase</td>\n",
       "      <td>123.0</td>\n",
       "      <td>6.15</td>\n",
       "      <td>6.78</td>\n",
       "      <td>3.16</td>\n",
       "      <td>0.140330</td>\n",
       "      <td>0.000857</td>\n",
       "    </tr>\n",
       "    <tr>\n",
       "      <th>5</th>\n",
       "      <td>Olivine</td>\n",
       "      <td>0.1</td>\n",
       "      <td>0.01</td>\n",
       "      <td>0.00</td>\n",
       "      <td>0.02</td>\n",
       "      <td>0.139385</td>\n",
       "      <td>0.000001</td>\n",
       "    </tr>\n",
       "  </tbody>\n",
       "</table>\n",
       "</div>"
      ],
      "text/plain": [
       "         phase  al27_mg24   2sig  delta26mg  2sigpercent  mg26_mg24  \\\n",
       "0  Plagioclase       99.0   4.95      10.37         7.03   0.140830   \n",
       "1  Plagioclase      208.0  10.40      13.38         3.87   0.141250   \n",
       "2  Plagioclase      181.0   9.05      12.45         4.09   0.141120   \n",
       "3  Plagioclase      139.0   6.95       7.14         3.37   0.140380   \n",
       "4  Plagioclase      123.0   6.15       6.78         3.16   0.140330   \n",
       "5      Olivine        0.1   0.01       0.00         0.02   0.139385   \n",
       "\n",
       "   mg_mg_2sig  \n",
       "0    0.000690  \n",
       "1    0.001450  \n",
       "2    0.001261  \n",
       "3    0.000969  \n",
       "4    0.000857  \n",
       "5    0.000001  "
      ]
     },
     "execution_count": 23,
     "metadata": {},
     "output_type": "execute_result"
    }
   ],
   "source": [
    "Chondrule"
   ]
  },
  {
   "cell_type": "code",
   "execution_count": 10,
   "metadata": {},
   "outputs": [],
   "source": [
    "from numpy import arange,array,ones\n",
    "from scipy import stats"
   ]
  },
  {
   "cell_type": "code",
   "execution_count": 11,
   "metadata": {},
   "outputs": [
    {
     "name": "stdout",
     "output_type": "stream",
     "text": [
      "The origianl ratio in the CAI was 5.13e-05\n",
      "The original ratio in the Chondrule was 8.54e-06\n"
     ]
    },
    {
     "data": {
      "text/plain": [
       "<matplotlib.legend.Legend at 0x2938cc22320>"
      ]
     },
     "execution_count": 11,
     "metadata": {},
     "output_type": "execute_result"
    },
    {
     "data": {
      "image/png": "[encoded data removed]",
      "text/plain": [
       "<Figure size 432x288 with 1 Axes>"
      ]
     },
     "metadata": {
      "needs_background": "light"
     },
     "output_type": "display_data"
    }
   ],
   "source": [
    "fig = plt.figure()\n",
    "ax1 = fig.add_subplot(111)\n",
    "\n",
    "slope, intercept, r_value, p_value, std_err = stats.linregress(CAI.al27_mg24,CAI.mg26_mg24)\n",
    "line = slope*CAI.al27_mg24+intercept\n",
    "ax1.plot(CAI.al27_mg24, line)\n",
    "print(f\"The origianl ratio in the CAI was {slope:.3}\")\n",
    "\n",
    "slope, intercept, r_value, p_value, std_err = stats.linregress(Chondrule.al27_mg24,Chondrule.mg26_mg24)\n",
    "line = slope*Chondrule.al27_mg24+intercept\n",
    "ax1.plot(Chondrule.al27_mg24, line)\n",
    "print(f\"The original ratio in the Chondrule was {slope:.3}\")\n",
    "\n",
    "\n",
    "\n",
    "ax1.scatter(y=CAI.mg26_mg24, x= CAI.al27_mg24, label = \"CAI\") #check email she sent. \n",
    "ax1.scatter(y=Chondrule.mg26_mg24, x= Chondrule.al27_mg24, color = 'r', label = \"Chondrule\")\n",
    "ax1.errorbar(CAI.al27_mg24, CAI.mg26_mg24, yerr = CAI.mg_mg_2sig, fmt  = 'o', c = 'b')\n",
    "ax1.errorbar(Chondrule.al27_mg24, Chondrule.mg26_mg24, yerr = Chondrule.mg_mg_2sig, fmt = 'o', c = 'r')\n",
    "\n",
    "plt.xlabel(\"27Al/24Mg\")\n",
    "plt.ylabel(\"26Mg/24Mg\")\n",
    "plt.legend()"
   ]
  },
  {
   "cell_type": "code",
   "execution_count": 12,
   "metadata": {},
   "outputs": [],
   "source": [
    "# lecture 8 gives example of short lived chronology"
   ]
  },
  {
   "cell_type": "markdown",
   "metadata": {},
   "source": [
    "3. Determine the initial 26Al/27Al ratio of the CAI and the chondrule. (Hint: Look back on\n",
    "your class notes for how to use your plotted data to find this value.)\n",
    "\n",
    "The slope of the isochrons give our initial ratios, and are printed above the graph."
   ]
  },
  {
   "cell_type": "markdown",
   "metadata": {},
   "source": [
    "4. Which formed first, the CAI or the chondrule? What event are we dating?\n",
    "\n",
    "The original ratio in the chondrule was lower than the original ratio in the CAI, which indicates that the CAI formed first when the al26/27 ratio was higher, and the chondrule later when it was lower as the ratio decreases over time as the al26 decays.  This allows us to put a number to a difference in formation dates which -should we be given either one of the ages - allows us to find the age of both as it appears we will in the following questions."
   ]
  },
  {
   "cell_type": "markdown",
   "metadata": {},
   "source": [
    "5. What is the difference between the initial 26Al/27Al ratio of the CAI and chondrule?\n",
    "\n",
    "Ratio Chondrule - Ratio CAI = \n",
    "\n",
    "8.54e-6 - 5.13e-5 = -4.276e-5\n",
    "\n"
   ]
  },
  {
   "cell_type": "markdown",
   "metadata": {},
   "source": [
    "6. Using this same age equation, calculate the uncertainty that Al isotopic composition\n",
    "contributes to the CAI age if the uncertainty on the initial 26Al/27Al ratio was 0.4E-6.\n",
    "With this uncertainty, can we resolve the age of CAIs that formed 1,000 years apart?"
   ]
  },
  {
   "cell_type": "markdown",
   "metadata": {},
   "source": [
    "#The question is asking if the minimum difference between R1 and R2 we can measure is 0.4E-6, \n",
    "#what change in age does this correspond to. (i.e. if R2 = R1 – 0.4E-6)\n",
    "\n",
    "halflife = 720000 #years\n",
    "\n",
    "lmbda = np.log(2) / halflife\n",
    "\n",
    "R1 = 5.13e-5\n",
    "\n",
    "R2 = R1 - 0.4e-6\n",
    "\n",
    "R2 = R1 e^(-lmbda*t)\n",
    "\n",
    "We solve for t to find t ~= 8131 years\n",
    "\n",
    "At 8131 years we would not be able to resolve the age of CAIs that formed 1000 years apart."
   ]
  },
  {
   "cell_type": "markdown",
   "metadata": {},
   "source": [
    "7. The 207Pb206Pb age of the CAI indicates that it formed 4567 Ma. What is the absolute\n",
    "age of the chondrule?"
   ]
  },
  {
   "cell_type": "code",
   "execution_count": 21,
   "metadata": {},
   "outputs": [
    {
     "name": "stdout",
     "output_type": "stream",
     "text": [
      "Calculate that these chondrules form ~ 1.86e+06 years after the CAI's\n",
      "Since the CAI formed 4567 Ma, this means that the absolute age of the chondrule is 4.5651e+09 years old as opposed to the CAI's age of 4.567e+09 years old.\n"
     ]
    }
   ],
   "source": [
    "halflife = 720000 #years\n",
    "lmbda = np.log(2) / halflife\n",
    "#print(lmbda)\n",
    "#first slope for CAI\n",
    "slope, intercept, r_value, p_value, std_err = stats.linregress(CAI.al27_mg24,CAI.mg26_mg24)\n",
    "R1 = slope\n",
    "\n",
    "#then slope for chondrules\n",
    "slope, intercept, r_value, p_value, std_err = stats.linregress(Chondrule.al27_mg24,Chondrule.mg26_mg24)\n",
    "R2 = slope\n",
    "\n",
    "d_time = (1/lmbda)*np.log(R1/R2)\n",
    "print(f\"Calculate that these chondrules form ~ {d_time:.3} years after the CAI's\")\n",
    "print(f\"Since the CAI formed 4567 Ma, this means that the absolute age of the chondrule is {4567*10**6 - d_time:.5} years old as opposed to the CAI's age of {4567*10**6.:.5} years old.\" )\n"
   ]
  },
  {
   "cell_type": "markdown",
   "metadata": {},
   "source": [
    "8. The initial ratios for both the CAI and the chondrule are forced through the terrestrial\n",
    "composition using olivine data. What happens to the inferred initial 26Al/27Al ratio of the\n",
    "chondrule if we do not do this? How does this change the age difference between the CAI\n",
    "and the chondrule? (Note: you will have to change your figure from Part 2 to answer this\n",
    "question. However, you do not need to hand in a new plot for this question"
   ]
  },
  {
   "cell_type": "code",
   "execution_count": 15,
   "metadata": {},
   "outputs": [],
   "source": [
    "CAI_removed = CAI.drop(CAI.index[-1])\n",
    "Chondrule_removed =Chondrule.drop(Chondrule.index[-1])"
   ]
  },
  {
   "cell_type": "code",
   "execution_count": 16,
   "metadata": {},
   "outputs": [],
   "source": [
    "std = 0.139384732 #standard 26Mg/24Mg  \n",
    "bucket = [] # for mg26/mg24\n",
    "bucket2 = [] # for 2sigma of mg26/mg24\n",
    "for index, row in CAI_removed.iterrows():\n",
    "    #print((row['delta26mg']*std/1000) + std)\n",
    "    bucket.append((row['delta26mg']*std/1000) + std)\n",
    "    bucket2.append((row['2sig']*abs(std/1000)))\n",
    "CAI_removed['mg26_mg24'] = bucket\n",
    "CAI_removed[\"mg_mg_2sig\"] = bucket2\n",
    "\n",
    "bucket = []\n",
    "bucket2 = []\n",
    "for index, row in Chondrule_removed.iterrows():\n",
    "    #print((row['delta26mg']*std/1000) + std)\n",
    "    bucket.append((row['delta26mg']*std/1000) + std)\n",
    "    bucket2.append((row['2sig']*abs(std/1000)))\n",
    "Chondrule_removed['mg26_mg24'] = bucket\n",
    "Chondrule_removed[\"mg_mg_2sig\"] = bucket2"
   ]
  },
  {
   "cell_type": "code",
   "execution_count": 17,
   "metadata": {},
   "outputs": [
    {
     "name": "stdout",
     "output_type": "stream",
     "text": [
      "The origianl ratio in the CAI was 5.12e-05 without olivine\n",
      "The original ratio in the Chondrule was 6.66e-06 without olivine\n"
     ]
    }
   ],
   "source": [
    "slope, intercept, r_value, p_value, std_err = stats.linregress(CAI_removed.al27_mg24,CAI_removed.mg26_mg24)\n",
    "line = slope*CAI_removed.al27_mg24+intercept\n",
    "ax1.plot(CAI_removed.al27_mg24, line)\n",
    "print(f\"The origianl ratio in the CAI was {slope:.3} without olivine\")\n",
    "R1 = slope\n",
    "\n",
    "slope, intercept, r_value, p_value, std_err = stats.linregress(Chondrule_removed.al27_mg24,Chondrule_removed.mg26_mg24)\n",
    "line = slope*Chondrule_removed.al27_mg24+intercept\n",
    "ax1.plot(Chondrule_removed.al27_mg24, line)\n",
    "R2 = slope\n",
    "print(f\"The original ratio in the Chondrule was {slope:.3} without olivine\")"
   ]
  },
  {
   "cell_type": "code",
   "execution_count": 24,
   "metadata": {},
   "outputs": [
    {
     "name": "stdout",
     "output_type": "stream",
     "text": [
      "1.8621e+06 years is the new age difference between the CAI and Chondrule.  The old age difference was 1.8621e+06 years\n"
     ]
    }
   ],
   "source": [
    "d_time2= (1/lmbda)*np.log(R1/R2)\n",
    "print(f\"{d_time2:.5} years is the new age difference between the CAI and Chondrule.  The old age difference was {d_time:.5} years\")"
   ]
  },
  {
   "cell_type": "markdown",
   "metadata": {},
   "source": [
    "When we remove the olivine data from both datasets we find that the initial ratio of our chondrule goes from 8.54e-6 to 6.66e-6 and that the age difference changes as mentioned immediately above."
   ]
  },
  {
   "cell_type": "markdown",
   "metadata": {},
   "source": [
    "9. From this dataset, you conclude that chondrules formed after CAIs. What are the two\n",
    "major assumptions that go into this conclusion?"
   ]
  },
  {
   "cell_type": "markdown",
   "metadata": {},
   "source": [
    "Two big assumptions that we make are \n",
    "\n",
    "    a) These samples are representative of the bulk composition of all chondrules and CAIs \n",
    "    \n",
    "    b) Nothing else influenced the relative ratios that we used to come to any of our results or our general conclusion.  We have a perfectly isolated system"
   ]
  }
 ],
 "metadata": {
  "kernelspec": {
   "display_name": "Python 3",
   "language": "python",
   "name": "python3"
  },
  "language_info": {
   "codemirror_mode": {
    "name": "ipython",
    "version": 3
   },
   "file_extension": ".py",
   "mimetype": "text/x-python",
   "name": "python",
   "nbconvert_exporter": "python",
   "pygments_lexer": "ipython3",
   "version": "3.7.1"
  }
 },
 "nbformat": 4,
 "nbformat_minor": 2
}
