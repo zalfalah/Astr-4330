{
 "cells": [
  {
   "cell_type": "code",
   "execution_count": 1,
   "metadata": {},
   "outputs": [],
   "source": [
    "import numpy as np\n",
    "import pandas as pd\n",
    "import matplotlib.pyplot as plt"
   ]
  },
  {
   "cell_type": "markdown",
   "metadata": {},
   "source": [
    "# Astr. 4330 HW. #1\n",
    "# Zade Alfalah"
   ]
  },
  {
   "cell_type": "markdown",
   "metadata": {},
   "source": [
    "# Part 1: Short Answer Questions"
   ]
  },
  {
   "cell_type": "markdown",
   "metadata": {},
   "source": [
    "1. Why are H and He so abundant?\n",
    "2. What is the origin of the low abundances of Li, Be, and B?\n",
    "3. How are elements heavier than iron produced?\n",
    "4. Why are even-numbered elements more abundant that odd elements?\n",
    "5. What are the magic numbers and what makes them special?\n",
    "6. What are the five main types of chemical bonds? What are two important properties of\n",
    "each type?\n",
    "7. Why is water such an important compound in geochemistry? What are some of its\n",
    "properties that make it important in planetary evolution (or planetary systems)? (Hint:\n",
    "Box 2.1 in the book will be helpful) "
   ]
  },
  {
   "cell_type": "markdown",
   "metadata": {},
   "source": [
    "# Part 1 Answers\n",
    "1. H is a simple element (one proton, one neutron) and is the most abundant as it's easy to make and was the most abundant material at the start of the universe.  This ties in with He which was quite easy to form as H fuses in stars to make He even in first generation stars.  \n",
    "\n",
    "2. While some Li, and Be are formed in BBN, past this stellar burning bypasses Li, Be, and B in the triple-alpha process meaning their abundances are not grown in the same way that other elements produced with stellar nucleosynth. are.  There is also the 'Lithium Problem' where predicted Li abundances are higher than observed abundances by a factor of 3-4.  This is due to the fact that Li is efficiently destroyed when mixing occurs between the atmosphere and inner hot layers of stars similar to our Sun.  Possible sources of creation for Li, Be, B include Cosmic Ray Spallation, Neutrino Processes, and Supernovae.  \n",
    "\n",
    "3. Elements heavier than iron are produced in supernovae.\n",
    "\n",
    "4. This is called the Oddo-Harkins rule, occurs because ########## FINISH EXPLINATION#######\n",
    "\n",
    "5. The magic numbers are the number of nucleons that make complete shells.  They are 2, 8, 20, 28, 50, 82, and 126.  These have higher average binding energy per nucleon than expected.\n",
    "\n",
    "6. The five main types of chemical bonds and two important properties of each:\n",
    "    I) Ionic; occurs between a donor/reciever, and is a strong bond\n",
    "    II) Covalent; involves the sharing of an electron, elements must have similar                         electronegativites to occur (also strong)\n",
    "    III) Metallic; between two metallic elements, involves the sharing of a detached electron\n",
    "    IV) Van der Waals; involves the polorization of an electron around a nucleus, and is weak\n",
    "    V) Hydrogen Bonding; involves the attraction between the nucleus of an atom and an electron          of another, also weak but stronger than the Van der Waals\n",
    "\n",
    "7. While there is the trivial answer that water is of the utmost importance in geochemistry because without water we would not be around to have invented geochemistry, there are also the interesting properties that water shows that make it important for the field.  Some examples of this include the fact that it can have two types of bonds, its high specific heat, high boiling point, the fact that it expands when freezing - which as mentioned in the book means that our planet is as it is, rather than a giant snowball- and quite importantly it is a universal solvent which means that it can dissolve substances which carry a net electrical charge across itself.  That's pretty neat!"
   ]
  },
  {
   "cell_type": "markdown",
   "metadata": {},
   "source": [
    "# Part 2: Long Answer Problems"
   ]
  },
  {
   "cell_type": "markdown",
   "metadata": {},
   "source": [
    "# Question 1"
   ]
  },
  {
   "cell_type": "code",
   "execution_count": 64,
   "metadata": {},
   "outputs": [],
   "source": [
    "def BEPN(A,Z,a_mass):\n",
    "    'Put in number protons, number neutrons, atomic mass in amu'\n",
    "    n_prot = Z\n",
    "    n_neut = A-Z\n",
    "    m_prot = 1.00728 #amu\n",
    "    m_neut = 1.00867 #amu\n",
    "    m_calc = n_prot*m_prot + n_neut*m_neut #get calculated mass in amu\n",
    "    m_defect = m_calc - a_mass #defect mass is diff between calculated and given masses in amu\n",
    "    #print(m_defect)\n",
    "    m_defect_kg = m_defect * 1.6605*10**(-27) #gives mass defect in kg\n",
    "    #print(m_defect_kg)\n",
    "    energy = m_defect_kg * (3*10**8)**2 #e=mc^2, gives result in joules \n",
    "    #print(f\"The BEPN of this atom is {energy:.3} Joules per Atom\")\n",
    "    energy_convert = energy * 6.2415*10**12 #6.24*10^12 MeV per Joule\n",
    "    #print(f\"The BEPN of this atom is {energy_convert:.3} MeV per Atom\")\n",
    "    mev_per_nucleon = energy_convert / A\n",
    "    print(f\"The BEPN of this atom is {mev_per_nucleon:.3} MeV\")\n",
    "    "
   ]
  },
  {
   "cell_type": "code",
   "execution_count": 65,
   "metadata": {},
   "outputs": [
    {
     "name": "stdout",
     "output_type": "stream",
     "text": [
      "The BEPN of this atom is 5.11 MeV\n"
     ]
    }
   ],
   "source": [
    "#Li, 6, 3, 6.015\n",
    "BEPN(6, 3, 6.015 )"
   ]
  },
  {
   "cell_type": "code",
   "execution_count": 66,
   "metadata": {},
   "outputs": [
    {
     "name": "stdout",
     "output_type": "stream",
     "text": [
      "The BEPN of this atom is 8.02 MeV\n"
     ]
    }
   ],
   "source": [
    "#Mg, 25, 12, 24.985\n",
    "BEPN(25, 12, 24.985) "
   ]
  },
  {
   "cell_type": "code",
   "execution_count": 5,
   "metadata": {},
   "outputs": [
    {
     "name": "stdout",
     "output_type": "stream",
     "text": [
      "The BEPN of this atom is 8.58 MeV\n"
     ]
    }
   ],
   "source": [
    "#Fe, 56, 26, 55.934\n",
    "BEPN(56, 26, 55.934 )"
   ]
  },
  {
   "cell_type": "code",
   "execution_count": 6,
   "metadata": {},
   "outputs": [
    {
     "name": "stdout",
     "output_type": "stream",
     "text": [
      "The BEPN of this atom is 8.44 MeV\n"
     ]
    }
   ],
   "source": [
    "#Mo, 98, 42,97.905\n",
    "BEPN(98, 42, 97.905)"
   ]
  },
  {
   "cell_type": "code",
   "execution_count": 7,
   "metadata": {},
   "outputs": [
    {
     "name": "stdout",
     "output_type": "stream",
     "text": [
      "The BEPN of this atom is 7.39 MeV\n"
     ]
    }
   ],
   "source": [
    "#U, 238, 92,238.050\n",
    "BEPN(238, 92, 238.050)"
   ]
  },
  {
   "cell_type": "code",
   "execution_count": 8,
   "metadata": {},
   "outputs": [
    {
     "data": {
      "text/plain": [
       "Text(0, 0.5, 'BEPN')"
      ]
     },
     "execution_count": 8,
     "metadata": {},
     "output_type": "execute_result"
    },
    {
     "data": {
      "image/png": "[encoded data removed]",
      "text/plain": [
       "<Figure size 432x288 with 1 Axes>"
      ]
     },
     "metadata": {
      "needs_background": "light"
     },
     "output_type": "display_data"
    }
   ],
   "source": [
    "a_list = [6, 25, 56, 98, 238]\n",
    "bepn_list = [5.11, 8.02, 8.58, 8.44, 7.39]\n",
    "labels = ['Li', 'Mg', 'Fe', 'Mo', 'U']\n",
    "\n",
    "fig, ax = plt.subplots()\n",
    "ax.plot(a_list, bepn_list, marker = 'o')\n",
    "\n",
    "for i, txt in enumerate(labels):\n",
    "    ax.annotate(txt, (a_list[i], bepn_list[i]))\n",
    "ax.title.set_text(\"BEPN vs. Mass Number\")\n",
    "ax.set_xlabel(\"Mass Number (A = Z + N)\")\n",
    "ax.set_ylabel(\"BEPN\")"
   ]
  },
  {
   "cell_type": "markdown",
   "metadata": {},
   "source": [
    "Can see the stability of 56, 26 Fe as it has the highest BEPN on our plot, and BEPN represents the energy required to be put in so as to 'break the subject up'. In fusion reactions within stars we build up to iron by fusing various other elements together and then stop once we reach it as we can see the BEPN drops when moving on past it, indicating that energy is then required to fuse rather than having the fusion process produce energy as it had up until then.  Things which are energetically unfavorable to create will, in general, have lower abundances."
   ]
  },
  {
   "cell_type": "markdown",
   "metadata": {},
   "source": [
    "# Question 2"
   ]
  },
  {
   "cell_type": "code",
   "execution_count": 9,
   "metadata": {},
   "outputs": [
    {
     "name": "stdout",
     "output_type": "stream",
     "text": [
      "The BEPN of this atom is 8.37 MeV\n"
     ]
    }
   ],
   "source": [
    "#Fe, 52, 26, 51.948\n",
    "BEPN(52, 26, 51.948)"
   ]
  },
  {
   "cell_type": "code",
   "execution_count": 10,
   "metadata": {},
   "outputs": [
    {
     "name": "stdout",
     "output_type": "stream",
     "text": [
      "The BEPN of this atom is 8.45 MeV\n"
     ]
    }
   ],
   "source": [
    "#Mn, 52, 25, 51.945\n",
    "BEPN(52, 25, 51.945)"
   ]
  },
  {
   "cell_type": "code",
   "execution_count": 11,
   "metadata": {},
   "outputs": [
    {
     "name": "stdout",
     "output_type": "stream",
     "text": [
      "The BEPN of this atom is 8.56 MeV\n"
     ]
    }
   ],
   "source": [
    "#Cr, 52, 24, 51.940\n",
    "BEPN(52, 24, 51.940)"
   ]
  },
  {
   "cell_type": "code",
   "execution_count": 12,
   "metadata": {},
   "outputs": [
    {
     "name": "stdout",
     "output_type": "stream",
     "text": [
      "The BEPN of this atom is 8.52 MeV\n"
     ]
    }
   ],
   "source": [
    "#V, 52, 23, 51.944\n",
    "BEPN(52, 23, 51.944)"
   ]
  },
  {
   "cell_type": "code",
   "execution_count": 13,
   "metadata": {},
   "outputs": [
    {
     "name": "stdout",
     "output_type": "stream",
     "text": [
      "The BEPN of this atom is 8.51 MeV\n"
     ]
    }
   ],
   "source": [
    "#Ti, 52, 22, 51.946\n",
    "BEPN(52, 22, 51.946)"
   ]
  },
  {
   "cell_type": "code",
   "execution_count": 14,
   "metadata": {},
   "outputs": [
    {
     "data": {
      "text/plain": [
       "Text(0, 0.5, 'BEPN')"
      ]
     },
     "execution_count": 14,
     "metadata": {},
     "output_type": "execute_result"
    },
    {
     "data": {
      "image/png": "[encoded data removed]",
      "text/plain": [
       "<Figure size 432x288 with 1 Axes>"
      ]
     },
     "metadata": {
      "needs_background": "light"
     },
     "output_type": "display_data"
    }
   ],
   "source": [
    "z_list = [26, 25, 24, 23, 22]\n",
    "bepn_list = [8.37, 8.45, 8.56, 8.52, 8.51]\n",
    "labels = ['Fe', 'Mn', 'Cr', 'V', 'Ti']\n",
    "\n",
    "fig, ax = plt.subplots()\n",
    "ax.plot(z_list, bepn_list, marker = 'o')\n",
    "\n",
    "for i, txt in enumerate(labels):\n",
    "    ax.annotate(txt, (z_list[i], bepn_list[i]))\n",
    "ax.title.set_text(\"BEPN vs. Z Number\")\n",
    "ax.set_xlabel(\"Z Number\")\n",
    "ax.set_ylabel(\"BEPN\")"
   ]
  },
  {
   "cell_type": "markdown",
   "metadata": {},
   "source": [
    "We can see that this cuts a diagonal through the chart of nuclides, with Cr sitting at the bottom of the 'well of stability' as reflected by its higher BEPN indicating its high stability, esp. in relation to the others listed there which are well outside the 'black line of stability' (or whatever it's called) on the chart of nuclides."
   ]
  },
  {
   "cell_type": "markdown",
   "metadata": {},
   "source": [
    "# Question 3\n",
    "Part (a)"
   ]
  },
  {
   "cell_type": "code",
   "execution_count": 49,
   "metadata": {},
   "outputs": [],
   "source": [
    "v_sq = (2/3)*(1.38*10**-23)*(1.5*10**7)*2/(1.672*10**-27) #gives velocity squared"
   ]
  },
  {
   "cell_type": "code",
   "execution_count": 58,
   "metadata": {},
   "outputs": [
    {
     "name": "stdout",
     "output_type": "stream",
     "text": [
      "3.2e+38 proton per second collision rate\n"
     ]
    }
   ],
   "source": [
    "v = np.sqrt(v_sq) #gives velocity in m/s\n",
    "n_p_kg = 10**5 #kg/m^3, stated only 70% of central region is H, will account for this in a second\n",
    "n_p = n_p_kg/(1.67*10**-27)*0.7 #n_p converted to proton/m^3, *0.7 to account for only 70% of mass being protons\n",
    "sigm = 3.14*10**-26 #m^2\n",
    "n_over_t = v*n_p*sigm\n",
    "n_over_t_percent = n_over_t \n",
    "n_over_t_rate = n_over_t_percent /(1.67*10**-27) # n_over_t in kg/s, mult by 1 proton/1.67*10^-27kg\n",
    "#gives n_over_t_rate in proton/sec\n",
    "print(f\"{n_over_t_rate:.3} proton per second collision rate\")\n",
    "#Assumes all collisions in interior are proton-proton"
   ]
  },
  {
   "cell_type": "markdown",
   "metadata": {},
   "source": [
    "If we take 4.28*10^-12J/rxn * X(rxn/sec) = 4*10^26 J/s (using real values) and solve for X rxn/sec we find a value of 9.345*10^37 rxn/sec, very close to what we have above."
   ]
  },
  {
   "cell_type": "markdown",
   "metadata": {},
   "source": [
    "Part (b)"
   ]
  },
  {
   "cell_type": "code",
   "execution_count": 51,
   "metadata": {},
   "outputs": [
    {
     "name": "stdout",
     "output_type": "stream",
     "text": [
      "3.885661260000235e-13\n"
     ]
    }
   ],
   "source": [
    "#part 2\n",
    "m_proton = 1 #amu\n",
    "m_4_He_amu = 4.0026 #amu\n",
    "#m_4_He = m_4_He_amu / (6.02214*10**26) #in kg\n",
    "m_diff = m_4_He_amu - (4*m_proton) #mass diff in amu\n",
    "mdiff_kg = m_diff * (1.660539*10**-27) # mass diff in kg\n",
    "#print(mdiff_kg) \n",
    "energy = mdiff_kg*(3*10**8)**2 #in J\n",
    "print(energy)\n",
    "#this is the energy per p+p chain reaction, involving 4 p --> 1He"
   ]
  },
  {
   "cell_type": "markdown",
   "metadata": {},
   "source": [
    "actual energy is 4.28*10^-12 J per rxn, this is relatively close, discrepencies perhaps just from neglected electron, neutrino masses?  Seems a bit high though."
   ]
  },
  {
   "cell_type": "markdown",
   "metadata": {},
   "source": [
    "Part (c)"
   ]
  },
  {
   "cell_type": "markdown",
   "metadata": {},
   "source": [
    "In email it was stated that the reaction rate in part (a) is the probability of one proton-proton chain to occur, energy in part (b) is energy for one proton-proton chain.  In part C we want the total # reactions happening in our region of interest.  I had thought this would just be by taking (energy/rxn) * (rxn/sec) = (energy/sec) but it was stated we should multiply again by proton density, which seems to throw our units off.  As such I will do it both how it seems to work in my head, with the units "
   ]
  },
  {
   "cell_type": "code",
   "execution_count": 60,
   "metadata": {},
   "outputs": [
    {
     "name": "stdout",
     "output_type": "stream",
     "text": [
      "1.2442168763084181e+26\n"
     ]
    }
   ],
   "source": [
    "#For energy/rx * rx/sec\n",
    "energy_per_rxn = energy*n_over_t_rate\n",
    "print(f\"{energy_per_rxn}\")\n",
    "#This seems pretty close to what we would expect"
   ]
  },
  {
   "cell_type": "code",
   "execution_count": 61,
   "metadata": {},
   "outputs": [
    {
     "data": {
      "text/plain": [
       "0.31"
      ]
     },
     "execution_count": 61,
     "metadata": {},
     "output_type": "execute_result"
    }
   ],
   "source": [
    "1.24*10**26/(4*10**26)"
   ]
  },
  {
   "cell_type": "markdown",
   "metadata": {},
   "source": [
    "Part (d)\n",
    "Actual energy production rate is 4*10^26 J/s, we get 1.24*10^26 J/s, roughly 1/3 the true value given.  This isn't bad for an estimation!"
   ]
  },
  {
   "cell_type": "markdown",
   "metadata": {},
   "source": [
    "Part (e) \n",
    "We neglected the mass of electrons and neutrinos, the proton+proton cross section area is immeasurable due to the time scales in the sun so that is also just an estimate.  Also the collision rate we calculated assumed all collisions of protons are with other protons, which is unreasonable.  I would also assume that there are more rxns than just inside the radius given (ie some at outer edge of the radius).  Temperature is variable throughout the sun, that could affect the reaction rate considerably as well."
   ]
  },
  {
   "cell_type": "code",
   "execution_count": null,
   "metadata": {},
   "outputs": [],
   "source": []
  }
 ],
 "metadata": {
  "kernelspec": {
   "display_name": "Python 3",
   "language": "python",
   "name": "python3"
  },
  "language_info": {
   "codemirror_mode": {
    "name": "ipython",
    "version": 3
   },
   "file_extension": ".py",
   "mimetype": "text/x-python",
   "name": "python",
   "nbconvert_exporter": "python",
   "pygments_lexer": "ipython3",
   "version": "3.7.1"
  }
 },
 "nbformat": 4,
 "nbformat_minor": 2
}
