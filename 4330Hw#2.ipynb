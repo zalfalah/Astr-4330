{
 "cells": [
  {
   "cell_type": "markdown",
   "metadata": {},
   "source": [
    "# 4330 Hw. # 2\n",
    "## Zade Alfalah"
   ]
  },
  {
   "cell_type": "code",
   "execution_count": 1,
   "metadata": {},
   "outputs": [],
   "source": [
    "import numpy as np\n",
    "import pandas as pd\n",
    "import matplotlib.pyplot as plt\n",
    "%matplotlib inline"
   ]
  },
  {
   "cell_type": "markdown",
   "metadata": {},
   "source": [
    "# Part 1: Short Answer Questions\n",
    "1. What does CAI stand for? What minerals make up CAIs? At what temperatures did they\n",
    "condense?\n",
    "2. What minerals occur in chondrules? At what temperature did they condense?\n",
    "3. What does the mineralogy of CAIs and chondrules suggest about their relative time of\n",
    "formation.\n",
    "4. Give one example of how we can use the chemical composition of different chondrite\n",
    "classes (Ordinary, Carbonateous, Enstatite) to infer where in the solar system the parent\n",
    "bodies formed?\n",
    "5. What minerals occur as pre-solar grains in Carbonatious Chondrites? What is the\n",
    "evidence that they are pre-solar?"
   ]
  },
  {
   "cell_type": "markdown",
   "metadata": {},
   "source": [
    "#1)\n",
    "CAI stands for Calcium-Aluminum Inclusion which have main mineralogies of Spinel, Melilite, Hibonite, Perovskite, and Ca-Ti reach pyroxene.  These condense quite quickly, eg on our graph of ccalculated stability relations at various total pressures we see hibonite can condense anywhere from ~1900K to ~1400K (depending on pressure).  \n",
    "\n",
    "#2) \n",
    "Chondrules are comprised of silicates as well as trace sulfides and metals. Looking at the same graph as above we can pick out say Olivine and see that it condenses at a temp. range of ~1600K to ~1400K, 300K colder than CAI's limit.\n",
    "\n",
    "#3)\n",
    "We can use the minerology of CAIs and chondrules to approximate their relative time of formation by looking at a condensation chart which shows that the things which make up CAIs (Hibonite, Perovskite, etc.) condense much earlier than the things which make up Chondrules (Olivine, Pyroxene, etc.)  We also know that past the frostline is the place where volatile species can condense, and that there are multiple frost lines for different volatile species (which themselves evolve with time).  We can use all these facts to look at which volatiles are condensed to find locations and times of formation.\n",
    "\n",
    "#4)\n",
    "We can infer the location of parent formation for different chondrite classes via their chemical composition by examining their various specta types which vary by distance (to the sun, in the example we had in class).\n",
    "\n",
    "#5)\n",
    "There were three types of pre-solar grains mentioned in class: Nanodiamonds, SiC, and Graphite.  The evidence that they are pre-solar lie in the fact that they are found in all primitive chondrite meteorite classes and are lousy in the solar nebula and protoplanetary disk (act as pollutants)."
   ]
  },
  {
   "cell_type": "markdown",
   "metadata": {},
   "source": [
    "# Part 2: Long Answer Problems\n",
    "## Question 1:\n",
    "Some years ago, an article was published in Nature magazine claiming that natural 244Pu\n",
    "had been isolated from a certain terrestrial rare earth ore. Suppose that [244Pu]/[238U] was\n",
    "about 0.006 (now established by Turner et al. 2004 & 2007). [Hint: The age equation\n",
    "will be useful.]\n",
    "\n",
    "(a) What is the [244Pu]/[238U] of the Earth at present?\n",
    "\n",
    "(b) How many 244Pu atoms do you expect to find per gram of rock containing 1 ppm of\n",
    "238U?\n",
    "\n",
    "(c) The most sensitive mass spectrometers can measure samples as small as ~ 1\n",
    "femtogram. How many grams of this rock would you need to process for your mass\n",
    "spectrometer before you could expect to find measurable quantities of 244Pu?\n",
    "\n",
    "(d) How does this compare with the average size of meteorites collected in Antarctica,\n",
    "which is ~ 150g? How does this compare with the size of the largest meteorite (Hoba)\n",
    "ever found , which was ~60 tons?\n",
    "\n",
    "(e) Why do cosmochemists look at the fission products of 244Pu and 238U (isotopes of\n",
    "xenon) to infer the initial [\n",
    "244Pu]/[238U]"
   ]
  },
  {
   "cell_type": "markdown",
   "metadata": {},
   "source": [
    "U238 has parent isotopes 242Pu, 238Pa, and decay product 234Th\n",
    "Lets just assume 244 Pu is the parent and 238U is the daughter."
   ]
  },
  {
   "cell_type": "code",
   "execution_count": 74,
   "metadata": {},
   "outputs": [
    {
     "name": "stdout",
     "output_type": "stream",
     "text": [
      "The current [U]/[Pu] ratio is 1.2119e+17. This means the current [Pu]/[U] ratio is 8.2518e-18.\n"
     ]
    }
   ],
   "source": [
    "pu_o_u = 0.006 #Parent over daughter ratio\n",
    "u_o_pu = (1/pu_o_u) #Daughter over parent ratio\n",
    "u_o_pu #166.6 U per Pu initially\n",
    "\n",
    "t = 4.54e9\n",
    "t12 = 8e7 #half life of Pu\n",
    "lmda = np.log(2)/(t12)\n",
    "x = np.exp(t*lmda) -1 #x is [U]/[Pu] for the present day\n",
    "print(f\"The current [U]/[Pu] ratio is {x:.5}. This means the current [Pu]/[U] ratio is {x**-1:.5}.\")"
   ]
  },
  {
   "cell_type": "code",
   "execution_count": 75,
   "metadata": {},
   "outputs": [
    {
     "name": "stdout",
     "output_type": "stream",
     "text": [
      "We would expect to find 8.2518e-24 atoms of Pu per gram of rock containing 1 ppm of U.\n"
     ]
    }
   ],
   "source": [
    "#[U]/1.2e17 = [Pu]\n",
    "Uconc = 1/1e6 #1 part per million U\n",
    "Puconc = Uconc/x \n",
    "print(f\"We would expect to find {Puconc:.5} atoms of Pu per gram of rock containing 1 ppm of U.\")"
   ]
  },
  {
   "cell_type": "code",
   "execution_count": 76,
   "metadata": {},
   "outputs": [
    {
     "name": "stdout",
     "output_type": "stream",
     "text": [
      "We need to have about 2.9912e+32 grams of material before we can find measurable quantities of Pu.\n"
     ]
    }
   ],
   "source": [
    "# fempto is e-15\n",
    "#1 gram gave Puconc atoms of Pu\n",
    "req_mass = 1e-15 #kg\n",
    "\n",
    "isomass_pu = 244.0642 #amu\n",
    "kgmass_pu = isomass_pu*1.66e-27 # mass of Pu244 atom\n",
    "\n",
    "foundweight = Puconc*kgmass_pu #mass found in the 1 kg sample\n",
    "#foundweight * x grams ~= 1e-15 --> solve for x to see requisite grams\n",
    "req_grams = 1e-15/foundweight\n",
    "print(f\"We need to have about {req_grams:.5} grams of material before we can find measurable quantities of Pu.\")"
   ]
  },
  {
   "cell_type": "markdown",
   "metadata": {},
   "source": [
    "The above number is literally orders of magnitude higher than the mass of the Earth.  I have to believe that I did something wrong there.  Compared to 150g, the above mass is enormous. 60 tonnes is 60,000,000 or 6e7 grams which again is nothing compared to my calculated requisite mass.\n",
    "\n",
    "If my calculated requisite mass is right, then that would explain why fission products are sought after to find initial ratios, since we can't exactly sample sizes on the requisite scales."
   ]
  },
  {
   "cell_type": "markdown",
   "metadata": {},
   "source": [
    "## Question 2:\n",
    "One theory of the origin of short lived radionuclides in the early solar system is input\n",
    "from a nearby super-AGB star. In this problem you will estimate the distance this a\n",
    "super-AGB star needs to be in order to explain the solar system initial 26Al/27Al ratio.\n",
    "Assume a stellar mass of ~10 M☉ for this estimation.\n",
    "\n",
    "The initial solar system 26Al/27Al ratio inferred from primitive meteorites is 5.0 x 10-5\n",
    ".\n",
    "This value will result from mixing of the solar nebula, which we will approximate with\n",
    "he average interstellar medium (ISM) 26Al/27Al ratio of ~2 x 10-5 (Clayton 1984), and the\n",
    "stellar winds of a 10M☉ super-AGB star, which has a ratio of 2.2 x 10-1 (Siess 2010).\n",
    "Let’s also assume that the time it takes for material to travel from the super-AGB star to\n",
    "the early solar system is significantly less than the half-life of 26Al (t1/2 = 7.17 x 105).\n",
    "This is advantageous because the 26Al/27Al ratio will not change due to radioactive\n",
    "decay.\n",
    "\n",
    "In this problem, the AGB star is acting like a point source and the stellar winds are\n",
    "expelling material uniformly in all directions (see figure below). The further away from\n",
    "the star you go, the more diffuse the expelled material gets – in other words, the expelled\n",
    "mass is spread across a larger area."
   ]
  },
  {
   "cell_type": "markdown",
   "metadata": {},
   "source": [
    "Step 1 Calculate the fraction of the AGB solar wind that will be contributed to the solar\n",
    "system as a function of distance from the star, assuming the radius of the solar system is\n",
    "100 AU. Do this for distances of 0.1 light year to 1.1 light year in increments of at least\n",
    "0.01 light years. [Hint: Use the equations for a surface area of a sphere and the area of a\n",
    "circle.] "
   ]
  },
  {
   "cell_type": "markdown",
   "metadata": {},
   "source": [
    "For this I was initially thinking we know that up to 100AU 100% of the material contributes to the solar system, and past that the fraction starts to lower. We can treat the system approximately as two spheres, one representing the solar system the other the volume that the isometrically expanding solar winds will take up.  This gives M tot = M out + M in, M in being rho*(4/3)*pi*r1^3, our spherically modeled solar system and Mout = rho*(4/3)*pi*(r2^3-r1^3) where r2 is the distance out from the point source of the sun we've gone, and r1 is the radius of our solar system.  Then the fraction in the solar system is M in / M tot, which simplifies to r1^3 / r2^3 and is only valid for r2 >= r1. \n",
    "\n",
    "I was also thinking of using a thick disk and a sphere so that Vtot = Vsphere-Vdisk\n",
    "\n",
    "But the hint says to use the equations for a surface area of a sphere and the area of a circle.  Doing so for the ratio and evaluating at the radius of the solar system gives \n",
    "```python \n",
    "np.pi*r1**2/(4*np.pi*r1**2) = 0.25\n",
    "```\n",
    "Which sort of makes sense, thinking of 3/4 of the material escaping up or down if the solar system is flat enough and is what is modeled below."
   ]
  },
  {
   "cell_type": "code",
   "execution_count": 77,
   "metadata": {},
   "outputs": [
    {
     "data": {
      "text/plain": [
       "Text(0, 0.5, 'Fraction in Solar System')"
      ]
     },
     "execution_count": 77,
     "metadata": {},
     "output_type": "execute_result"
    },
    {
     "data": {
      "image/png": "[encoded data removed]",
      "text/plain": [
       "<Figure size 432x288 with 1 Axes>"
      ]
     },
     "metadata": {
      "needs_background": "light"
     },
     "output_type": "display_data"
    }
   ],
   "source": [
    "r1 = 1.58*10e-3 #radius of solar system in Ly\n",
    "r = np.linspace(0.1, 1.1, 100) #start at 0.1, go to 1.1, steps of 0.01 Ly\n",
    "bucket = []\n",
    "for dist in r:\n",
    "    x = (np.pi*r1**2)/((4)*np.pi*dist**2)\n",
    "    bucket.append(x)\n",
    "plt.plot(r, bucket)\n",
    "plt.title(\"Fraction in Solar System By Distance\")\n",
    "plt.xlabel(\"Lightyears from source\")\n",
    "plt.ylabel(\"Fraction in Solar System\")"
   ]
  },
  {
   "cell_type": "markdown",
   "metadata": {},
   "source": [
    "Step 2 Next determine the mass of material delivered by the solar wind assuming that the\n",
    "winds expel 90% of the total mass of the star."
   ]
  },
  {
   "cell_type": "markdown",
   "metadata": {},
   "source": [
    "I feel as though I must be missing something here.  If 90% of the total mass of the star is delivered, and the star is 10 solar masses, then 9 solar masses of material is delivered.  But that seems too easy, unsure how exactly I'm misreading it."
   ]
  },
  {
   "cell_type": "code",
   "execution_count": 78,
   "metadata": {},
   "outputs": [
    {
     "data": {
      "text/plain": [
       "Text(0, 0.5, 'Mass in Solar System (Solar Masses)')"
      ]
     },
     "execution_count": 78,
     "metadata": {},
     "output_type": "execute_result"
    },
    {
     "data": {
      "image/png": "[encoded data removed]",
      "text/plain": [
       "<Figure size 432x288 with 1 Axes>"
      ]
     },
     "metadata": {
      "needs_background": "light"
     },
     "output_type": "display_data"
    }
   ],
   "source": [
    "r1 = 1.58*10e-3 #radius of solar system in Ly\n",
    "r = np.linspace(0.01, 1.1, 1000) #start at 0.01, go to 1.1, steps of 0.001 Ly\n",
    "bucket = []\n",
    "for dist in r:\n",
    "    x = ((np.pi*r1**2)/((4)*np.pi*dist**2))*9\n",
    "    bucket.append(x)\n",
    "plt.plot(r, bucket)\n",
    "plt.title(\"Mass in Solar System By Distance\")\n",
    "plt.xlabel(\"Lightyears from source\")\n",
    "plt.ylabel(\"Mass in Solar System (Solar Masses)\")"
   ]
  },
  {
   "cell_type": "markdown",
   "metadata": {},
   "source": [
    "Step 3 ...the minimum mass solar\n",
    "nebula will be ~0.5 M☉. What is the fraction of the resulting protoplanetary disk that\n",
    "comes from the super-AGB solar wind. Plot the fraction of mass from the super-AGB\n",
    "as a function of distance from the star. Include this plot in your homework answers"
   ]
  },
  {
   "cell_type": "markdown",
   "metadata": {},
   "source": [
    "About 0.5 solar masses of material put in, what fraction of the protoplanetary disk that forms comes from the solar wind as a function of distance from the star.\n",
    "\n",
    "Star is a point source that pushes out 9 solar masses in a sphere around it, is that what we're supposed to plot?"
   ]
  },
  {
   "cell_type": "code",
   "execution_count": 47,
   "metadata": {},
   "outputs": [],
   "source": [
    "# M = (4/3)*np.pi*r**2*rho_star just a mass formula for a sphere of material\n",
    "#know M = 0.5 solar masses, can assume constant density (call it 1) \n",
    "#I'm really unsure what to do on this one."
   ]
  },
  {
   "cell_type": "markdown",
   "metadata": {},
   "source": [
    "Step 4 Calculate the 26Al/27Al ratio of the final disk assuming perfect mixing between the\n",
    "super-AGB wind and the initial disk material (i.e. ISM composition). Reference the\n",
    "Introduction to Isotopic Calculations document if you need help with this. Plot the\n",
    "resulting 26Al/27Al ratio as a function of distance from the star. Include this plot in\n",
    "your homework answers."
   ]
  },
  {
   "cell_type": "markdown",
   "metadata": {},
   "source": [
    "Since I couldn't figure out step 3 I will just assume a 1/r^2 drop off for material from the star so that I can get something for the following answers."
   ]
  },
  {
   "cell_type": "code",
   "execution_count": 72,
   "metadata": {},
   "outputs": [
    {
     "data": {
      "text/plain": [
       "Text(0.5, 0, 'Distance')"
      ]
     },
     "execution_count": 72,
     "metadata": {},
     "output_type": "execute_result"
    },
    {
     "data": {
      "image/png": "[encoded data removed]",
      "text/plain": [
       "<Figure size 432x288 with 1 Axes>"
      ]
     },
     "metadata": {
      "needs_background": "light"
     },
     "output_type": "display_data"
    }
   ],
   "source": [
    "def f(x):\n",
    "    with np.errstate(divide='ignore', invalid='ignore'):\n",
    "        return 1/x**2\n",
    "\n",
    "x=np.linspace(0,100,100)\n",
    "y=f(x)\n",
    "plt.plot(x, y)\n",
    "plt.ylabel(\"Fraction from Super-ABG\")\n",
    "plt.xlabel(\"Distance\")"
   ]
  },
  {
   "cell_type": "code",
   "execution_count": 73,
   "metadata": {},
   "outputs": [
    {
     "data": {
      "text/plain": [
       "85.62346815634271"
      ]
     },
     "execution_count": 73,
     "metadata": {},
     "output_type": "execute_result"
    }
   ],
   "source": [
    "np.sqrt(1/1.364e-4)"
   ]
  },
  {
   "cell_type": "markdown",
   "metadata": {},
   "source": [
    "ISM Al/Al = 2e-5\n",
    "stellar wind Al/Al = 2.2e-1\n",
    "\n",
    "With the above values we can find the fraction that must come from each bit assuming perfect mixing and then find that fraction on our graph to give distance.\n",
    "\n",
    "```python\n",
    "2.2e-1 * x + 2e-5 *(1-x) = 5e-5\n",
    "``` \n",
    "solve for x to get 1.364e-4 or 0.01364% from the stellar wind.\n",
    "\n",
    "solve 1/r^2 = 1.364e-4 to get a **distance of 85.6** (lets say the graph above was in Ly still)\n"
   ]
  },
  {
   "cell_type": "markdown",
   "metadata": {},
   "source": [
    "2. If the stellar winds have a velocity of ~10 km/s, how long does it take for the AGB\n",
    "material to get to the solar system? Is our assumption that the travel time is sufficiently\n",
    "Star is like a\n",
    "point source\n",
    "for winds\n",
    "r = distance from star\n",
    "r\n",
    "r2\n",
    "r3\n",
    "less than the half-life of 26Al?"
   ]
  },
  {
   "cell_type": "markdown",
   "metadata": {},
   "source": [
    "This question now makes even less sense to me.  Is the star not in the center of the solar system? It seems like that's where it should be, and so all material expelled from the star is immediately inside of the solar system.  Lets just assume the distance to the solar system is the 100AU because I'm not sure what else to do, and then 100AU ~= 1.5e10 km so \n",
    "```python\n",
    "1.5e10/(10)  = 1.5e9 #seconds\n",
    "```\n",
    "And 1.5e9 seconds is about **47.53 years** to travel the 100AU, much less than the half life so the assumption is fine.\n"
   ]
  },
  {
   "cell_type": "markdown",
   "metadata": {},
   "source": []
  }
 ],
 "metadata": {
  "kernelspec": {
   "display_name": "Python 3",
   "language": "python",
   "name": "python3"
  },
  "language_info": {
   "codemirror_mode": {
    "name": "ipython",
    "version": 3
   },
   "file_extension": ".py",
   "mimetype": "text/x-python",
   "name": "python",
   "nbconvert_exporter": "python",
   "pygments_lexer": "ipython3",
   "version": "3.7.1"
  }
 },
 "nbformat": 4,
 "nbformat_minor": 2
}
